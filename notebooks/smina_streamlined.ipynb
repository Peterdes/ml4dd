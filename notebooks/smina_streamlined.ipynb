{
 "cells": [
  {
   "cell_type": "markdown",
   "metadata": {},
   "source": [
    "Imports"
   ]
  },
  {
   "cell_type": "code",
   "execution_count": 1,
   "metadata": {},
   "outputs": [],
   "source": [
    "import sys\n",
    "sys.path.append('..')\n",
    "import mdtraj\n",
    "\n",
    "from src.workshop_2_utils import *\n",
    "\n",
    "from config import settings"
   ]
  },
  {
   "cell_type": "markdown",
   "metadata": {},
   "source": [
    "Set those variables!"
   ]
  },
  {
   "cell_type": "code",
   "execution_count": 2,
   "metadata": {},
   "outputs": [],
   "source": [
    "# smina parameters\n",
    "num_poses = 10\n",
    "exhaustiveness = 20"
   ]
  },
  {
   "cell_type": "code",
   "execution_count": 3,
   "metadata": {},
   "outputs": [],
   "source": [
    "# How many molecules we want to stuff for\n",
    "num_mols = 5\n",
    "\n",
    "data_path = settings.data_path / \"lab2\"\n",
    "\n",
    "prepared_protein_pdb_file = data_path / \"6vhn_prepared.pdb\"\n",
    "ligand_pdb_file = data_path / \"ligand.pdb\"\n",
    "\n",
    "all_ligands_sdf_file = data_path / \"Enamine_Hinge_Binders_Library_plated_24000cmds_20210316 (1).sdf\"\n",
    "\n",
    "save_df_file = data_path / \"poses.parquet\""
   ]
  },
  {
   "cell_type": "code",
   "execution_count": 4,
   "metadata": {},
   "outputs": [],
   "source": [
    "\n",
    "smina_inputs_path = data_path / \"smina_inputs\"\n",
    "smina_inputs_path.mkdir(exist_ok=True)\n",
    "smina_outputs_path = data_path / \"smina_outputs\"\n",
    "smina_outputs_path.mkdir(exist_ok=True)\n",
    "\n",
    "protein_pdbqt_path = smina_inputs_path / \"receptor.pdbqt\"\n"
   ]
  },
  {
   "cell_type": "markdown",
   "metadata": {},
   "source": [
    "We prepare the pdbqt file for the protein"
   ]
  },
  {
   "cell_type": "code",
   "execution_count": 5,
   "metadata": {},
   "outputs": [],
   "source": [
    "protein_pdbqt_file = smina_inputs_path / \"receptor.pdbqt\"\n",
    "\n",
    "prep=Preprocessor()\n",
    "prep.prepare_receptor(prepared_protein_pdb_file, protein_pdbqt_file)"
   ]
  },
  {
   "cell_type": "markdown",
   "metadata": {},
   "source": [
    "Prepare the bounding box"
   ]
  },
  {
   "cell_type": "code",
   "execution_count": 6,
   "metadata": {},
   "outputs": [
    {
     "data": {
      "text/plain": [
       "Box(center=Point(x=-51.568, y=0.7765, z=23.5065), size=Point(x=11.748001, y=12.989, z=17.699))"
      ]
     },
     "execution_count": 6,
     "metadata": {},
     "output_type": "execute_result"
    }
   ],
   "source": [
    "ligand=mdtraj.load(ligand_pdb_file)\n",
    "def create_box_from_ligand(ligand):\n",
    "    xyz=ligand.xyz[0]*10 # convert to Angstrom from nm\n",
    "    pocket_center = (xyz.max(axis=0) + xyz.min(axis=0)) / 2\n",
    "    pocket_size = xyz.max(axis=0) - xyz.min(axis=0) + 5\n",
    "    return Box.from_array(pocket_center, pocket_size)\n",
    "\n",
    "box=create_box_from_ligand(ligand)\n",
    "box"
   ]
  },
  {
   "cell_type": "markdown",
   "metadata": {},
   "source": [
    "Get the docker"
   ]
  },
  {
   "cell_type": "code",
   "execution_count": 7,
   "metadata": {},
   "outputs": [],
   "source": [
    "from src.workshop_2_utils import Docking \n",
    "    \n",
    "docker=Docking(protein_pdbqt_file, box, num_poses=num_poses, exhaustiveness=exhaustiveness) \n"
   ]
  },
  {
   "cell_type": "markdown",
   "metadata": {},
   "source": [
    "`pdbqt` for the molecules"
   ]
  },
  {
   "cell_type": "code",
   "execution_count": 8,
   "metadata": {},
   "outputs": [],
   "source": [
    "import datamol as dm \n",
    "\n",
    "df_mols = dm.read_sdf(all_ligands_sdf_file, as_df=True, mol_column=\"mols\", n_jobs=-1)\n"
   ]
  },
  {
   "cell_type": "markdown",
   "metadata": {},
   "source": [
    "Dock them!"
   ]
  },
  {
   "cell_type": "code",
   "execution_count": 9,
   "metadata": {},
   "outputs": [
    {
     "name": "stderr",
     "output_type": "stream",
     "text": [
      "\u001b[32m2024-06-20 18:29:37.315\u001b[0m | \u001b[1mINFO    \u001b[0m | \u001b[36msrc.workshop_2_utils\u001b[0m:\u001b[36mdock_multiple_mols\u001b[0m:\u001b[36m266\u001b[0m - \u001b[1mConverting mols to pdbqt in '/home/ubuntu/smina/ml4dd/data/lab2/smina_inputs' folder\u001b[0m\n",
      "\u001b[32m2024-06-20 18:29:37.325\u001b[0m | \u001b[1mINFO    \u001b[0m | \u001b[36msrc.workshop_2_utils\u001b[0m:\u001b[36mdock_multiple_mols\u001b[0m:\u001b[36m270\u001b[0m - \u001b[1mDocking\u001b[0m\n",
      "100%|██████████| 5/5 [00:21<00:00,  4.22s/it]\n",
      "\u001b[32m2024-06-20 18:29:58.431\u001b[0m | \u001b[1mINFO    \u001b[0m | \u001b[36msrc.workshop_2_utils\u001b[0m:\u001b[36mdock_multiple_mols\u001b[0m:\u001b[36m275\u001b[0m - \u001b[1mMerge all the generated poses together to /home/ubuntu/smina/ml4dd/data/lab2/smina_outputs\u001b[0m\n"
     ]
    }
   ],
   "source": [
    "if num_mols > len(df_mols):\n",
    "    num_mols = len(df_mols)\n",
    "\n",
    "docker.dock_multiple_mols(\n",
    "        df_mols[\"mols\"].tolist()[:num_mols],\n",
    "        input_dir = smina_inputs_path,\n",
    "        output_dir = smina_outputs_path,\n",
    "        idxs= list(range(num_mols)),\n",
    ")      "
   ]
  },
  {
   "cell_type": "markdown",
   "metadata": {},
   "source": [
    "Read the poses"
   ]
  },
  {
   "cell_type": "code",
   "execution_count": 10,
   "metadata": {},
   "outputs": [],
   "source": [
    "poses= dm.read_sdf(smina_outputs_path / \"poses.sdf\", as_df=True, mol_column=\"mols\", n_jobs=-1)\n",
    "poses.sort_values(\"minimizedAffinity\",inplace=True)"
   ]
  },
  {
   "cell_type": "markdown",
   "metadata": {},
   "source": [
    "Need to get rid of duplicates!"
   ]
  },
  {
   "cell_type": "code",
   "execution_count": 11,
   "metadata": {},
   "outputs": [],
   "source": [
    "from rdkit import Chem\n",
    "\n",
    "# Function to convert a molecule to its canonical SMILES\n",
    "def mol_to_canonical_smiles(mol):\n",
    "    return Chem.MolToSmiles(Chem.MolFromSmiles(mol), isomericSmiles=True)\n",
    "\n",
    "# Apply the function to each molecule in the DataFrame\n",
    "poses['canonical_smiles'] = poses['smiles'].apply(mol_to_canonical_smiles)\n",
    "\n",
    "# Drop duplicates based on the 'canonical_smiles' column\n",
    "poses.drop_duplicates(subset='canonical_smiles', inplace=True)\n"
   ]
  },
  {
   "cell_type": "code",
   "execution_count": 12,
   "metadata": {},
   "outputs": [
    {
     "data": {
      "text/html": [
       "<div>\n",
       "<style scoped>\n",
       "    .dataframe tbody tr th:only-of-type {\n",
       "        vertical-align: middle;\n",
       "    }\n",
       "\n",
       "    .dataframe tbody tr th {\n",
       "        vertical-align: top;\n",
       "    }\n",
       "\n",
       "    .dataframe thead th {\n",
       "        text-align: right;\n",
       "    }\n",
       "</style>\n",
       "<table border=\"1\" class=\"dataframe\">\n",
       "  <thead>\n",
       "    <tr style=\"text-align: right;\">\n",
       "      <th></th>\n",
       "      <th>smiles</th>\n",
       "      <th>mols</th>\n",
       "      <th>minimizedAffinity</th>\n",
       "      <th>canonical_smiles</th>\n",
       "    </tr>\n",
       "  </thead>\n",
       "  <tbody>\n",
       "    <tr>\n",
       "      <th>114</th>\n",
       "      <td>Cc1csc(Nc2ccccc2)n1</td>\n",
       "      <td>&lt;rdkit.Chem.rdchem.Mol object at 0x7f1e018e5c40&gt;</td>\n",
       "      <td>-6.285374</td>\n",
       "      <td>Cc1csc(Nc2ccccc2)n1</td>\n",
       "    </tr>\n",
       "    <tr>\n",
       "      <th>99</th>\n",
       "      <td>Nc1nc2c(F)c(F)c(F)cc2s1</td>\n",
       "      <td>&lt;rdkit.Chem.rdchem.Mol object at 0x7f1e018e55b0&gt;</td>\n",
       "      <td>-6.238235</td>\n",
       "      <td>Nc1nc2c(F)c(F)c(F)cc2s1</td>\n",
       "    </tr>\n",
       "    <tr>\n",
       "      <th>59</th>\n",
       "      <td>Nc1nc2c(Cl)c(Cl)ccc2s1</td>\n",
       "      <td>&lt;rdkit.Chem.rdchem.Mol object at 0x7f1e018e4430&gt;</td>\n",
       "      <td>-6.002104</td>\n",
       "      <td>Nc1nc2c(Cl)c(Cl)ccc2s1</td>\n",
       "    </tr>\n",
       "    <tr>\n",
       "      <th>17</th>\n",
       "      <td>NC(=O)/C=[S]/[C@H]1[N]C(N)=NC(N)=N1</td>\n",
       "      <td>&lt;rdkit.Chem.rdchem.Mol object at 0x7f1e01c2f370&gt;</td>\n",
       "      <td>-5.575815</td>\n",
       "      <td>NC(=O)/C=[S]/[C@H]1[N]C(N)=NC(N)=N1</td>\n",
       "    </tr>\n",
       "    <tr>\n",
       "      <th>54</th>\n",
       "      <td>NC(=O)/C=[S]/[C@@H]1[N]C(N)=NC(N)=N1</td>\n",
       "      <td>&lt;rdkit.Chem.rdchem.Mol object at 0x7f1e018e4200&gt;</td>\n",
       "      <td>-5.571984</td>\n",
       "      <td>NC(=O)/C=[S]/[C@@H]1[N]C(N)=NC(N)=N1</td>\n",
       "    </tr>\n",
       "    <tr>\n",
       "      <th>94</th>\n",
       "      <td>c1ccc(Nc2nccs2)nc1</td>\n",
       "      <td>&lt;rdkit.Chem.rdchem.Mol object at 0x7f1e018e5380&gt;</td>\n",
       "      <td>-5.552175</td>\n",
       "      <td>c1ccc(Nc2nccs2)nc1</td>\n",
       "    </tr>\n",
       "  </tbody>\n",
       "</table>\n",
       "</div>"
      ],
      "text/plain": [
       "                                   smiles  \\\n",
       "114                   Cc1csc(Nc2ccccc2)n1   \n",
       "99                Nc1nc2c(F)c(F)c(F)cc2s1   \n",
       "59                 Nc1nc2c(Cl)c(Cl)ccc2s1   \n",
       "17    NC(=O)/C=[S]/[C@H]1[N]C(N)=NC(N)=N1   \n",
       "54   NC(=O)/C=[S]/[C@@H]1[N]C(N)=NC(N)=N1   \n",
       "94                     c1ccc(Nc2nccs2)nc1   \n",
       "\n",
       "                                                 mols  minimizedAffinity  \\\n",
       "114  <rdkit.Chem.rdchem.Mol object at 0x7f1e018e5c40>          -6.285374   \n",
       "99   <rdkit.Chem.rdchem.Mol object at 0x7f1e018e55b0>          -6.238235   \n",
       "59   <rdkit.Chem.rdchem.Mol object at 0x7f1e018e4430>          -6.002104   \n",
       "17   <rdkit.Chem.rdchem.Mol object at 0x7f1e01c2f370>          -5.575815   \n",
       "54   <rdkit.Chem.rdchem.Mol object at 0x7f1e018e4200>          -5.571984   \n",
       "94   <rdkit.Chem.rdchem.Mol object at 0x7f1e018e5380>          -5.552175   \n",
       "\n",
       "                         canonical_smiles  \n",
       "114                   Cc1csc(Nc2ccccc2)n1  \n",
       "99                Nc1nc2c(F)c(F)c(F)cc2s1  \n",
       "59                 Nc1nc2c(Cl)c(Cl)ccc2s1  \n",
       "17    NC(=O)/C=[S]/[C@H]1[N]C(N)=NC(N)=N1  \n",
       "54   NC(=O)/C=[S]/[C@@H]1[N]C(N)=NC(N)=N1  \n",
       "94                     c1ccc(Nc2nccs2)nc1  "
      ]
     },
     "execution_count": 12,
     "metadata": {},
     "output_type": "execute_result"
    }
   ],
   "source": [
    "poses"
   ]
  },
  {
   "cell_type": "code",
   "execution_count": 13,
   "metadata": {},
   "outputs": [],
   "source": [
    "poses.drop(columns=['mols']).to_csv(save_df_file)"
   ]
  },
  {
   "cell_type": "code",
   "execution_count": null,
   "metadata": {},
   "outputs": [],
   "source": []
  }
 ],
 "metadata": {
  "kernelspec": {
   "display_name": "smina",
   "language": "python",
   "name": "python3"
  },
  "language_info": {
   "codemirror_mode": {
    "name": "ipython",
    "version": 3
   },
   "file_extension": ".py",
   "mimetype": "text/x-python",
   "name": "python",
   "nbconvert_exporter": "python",
   "pygments_lexer": "ipython3",
   "version": "3.12.4"
  }
 },
 "nbformat": 4,
 "nbformat_minor": 2
}
