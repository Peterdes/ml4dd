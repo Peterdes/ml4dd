{
 "cells": [
  {
   "cell_type": "markdown",
   "metadata": {},
   "source": [
    "Imports"
   ]
  },
  {
   "cell_type": "code",
   "execution_count": 1,
   "metadata": {},
   "outputs": [],
   "source": [
    "import sys\n",
    "sys.path.append('..')\n",
    "import mdtraj\n",
    "\n",
    "from src.workshop_2_utils import *\n",
    "\n",
    "from config import settings"
   ]
  },
  {
   "cell_type": "markdown",
   "metadata": {},
   "source": [
    "Hyperparameters for smina"
   ]
  },
  {
   "cell_type": "code",
   "execution_count": 2,
   "metadata": {},
   "outputs": [],
   "source": [
    "# smina parameters\n",
    "num_poses = 1\n",
    "exhaustiveness = 8"
   ]
  },
  {
   "cell_type": "markdown",
   "metadata": {},
   "source": [
    "Paths to set"
   ]
  },
  {
   "cell_type": "code",
   "execution_count": 3,
   "metadata": {},
   "outputs": [],
   "source": [
    "# How many molecules we want to stuff for\n",
    "num_mols = 2\n",
    "\n",
    "data_path = settings.data_path / \"KIT_wt\"\n",
    "\n",
    "# prepared_protein_pdb_file = data_path / \"6vhn_prepared.pdb\"\n",
    "prepared_protein_pdb_file = None\n",
    "ligand_pdb_file = data_path / \"ligand.pdb\"\n",
    "\n",
    "protein_pdbqt_file = data_path / \"protein.pdbqt\"\n",
    "\n",
    "save_df_file = data_path / \"poses.csv\""
   ]
  },
  {
   "cell_type": "code",
   "execution_count": 4,
   "metadata": {},
   "outputs": [],
   "source": [
    "\n",
    "smina_inputs_path = data_path / \"smina_inputs\"\n",
    "smina_inputs_path.mkdir(exist_ok=True)\n",
    "smina_outputs_path = data_path / \"smina_outputs\"\n",
    "smina_outputs_path.mkdir(exist_ok=True)\n"
   ]
  },
  {
   "cell_type": "markdown",
   "metadata": {},
   "source": [
    "We prepare the pdbqt file for the protein"
   ]
  },
  {
   "cell_type": "code",
   "execution_count": 5,
   "metadata": {},
   "outputs": [],
   "source": [
    "if protein_pdbqt_file is None:\n",
    "    protein_pdbqt_file = smina_inputs_path / \"protein.pdbqt\"\n",
    "\n",
    "    prep=Preprocessor()\n",
    "    prep.prepare_receptor(prepared_protein_pdb_file, protein_pdbqt_file)"
   ]
  },
  {
   "cell_type": "markdown",
   "metadata": {},
   "source": [
    "Prepare the bounding box"
   ]
  },
  {
   "cell_type": "code",
   "execution_count": 6,
   "metadata": {},
   "outputs": [
    {
     "data": {
      "text/plain": [
       "Box(center=Point(x=-13.045, y=-15.206001, z=34.486), size=Point(x=13.43, y=11.000001, z=14.748001))"
      ]
     },
     "execution_count": 6,
     "metadata": {},
     "output_type": "execute_result"
    }
   ],
   "source": [
    "ligand = mdtraj.load(ligand_pdb_file)\n",
    "    \n",
    "def create_box_from_ligand(ligand):\n",
    "    xyz=ligand.xyz[0]*10 # convert to Angstrom from nm\n",
    "    pocket_center = (xyz.max(axis=0) + xyz.min(axis=0)) / 2\n",
    "    pocket_size = xyz.max(axis=0) - xyz.min(axis=0) + 5\n",
    "    return Box.from_array(pocket_center, pocket_size)\n",
    "\n",
    "box=create_box_from_ligand(ligand)\n",
    "box"
   ]
  },
  {
   "cell_type": "markdown",
   "metadata": {},
   "source": [
    "Load molecules from Polaris"
   ]
  },
  {
   "cell_type": "code",
   "execution_count": 7,
   "metadata": {},
   "outputs": [
    {
     "data": {
      "text/html": [
       "<div>\n",
       "<style scoped>\n",
       "    .dataframe tbody tr th:only-of-type {\n",
       "        vertical-align: middle;\n",
       "    }\n",
       "\n",
       "    .dataframe tbody tr th {\n",
       "        vertical-align: top;\n",
       "    }\n",
       "\n",
       "    .dataframe thead th {\n",
       "        text-align: right;\n",
       "    }\n",
       "</style>\n",
       "<table border=\"1\" class=\"dataframe\">\n",
       "  <thead>\n",
       "    <tr style=\"text-align: right;\">\n",
       "      <th></th>\n",
       "      <th>smiles</th>\n",
       "      <th>EGFR_(L858R_mutant)</th>\n",
       "      <th>EGFR</th>\n",
       "      <th>KIT_(T6701_mutant)</th>\n",
       "      <th>KIT_(V560G_mutant)</th>\n",
       "      <th>KIT</th>\n",
       "      <th>RET_(V804L_mutant)</th>\n",
       "      <th>RET_(Y791F_mutant)</th>\n",
       "      <th>RET</th>\n",
       "      <th>CLASS_EGFR_(L858R_mutant)</th>\n",
       "      <th>CLASS_EGFR</th>\n",
       "      <th>CLASS_KIT_(T6701_mutant)</th>\n",
       "      <th>CLASS_KIT_(V560G_mutant)</th>\n",
       "      <th>CLASS_KIT</th>\n",
       "      <th>CLASS_RET_(V804L_mutant)</th>\n",
       "      <th>CLASS_RET_(Y791F_mutant)</th>\n",
       "      <th>CLASS_RET</th>\n",
       "    </tr>\n",
       "  </thead>\n",
       "  <tbody>\n",
       "    <tr>\n",
       "      <th>0</th>\n",
       "      <td>O=C(Nc1n[nH]c2cc(-c3ccc(F)cc3)ccc12)C1CC1</td>\n",
       "      <td>4.19</td>\n",
       "      <td>4.27</td>\n",
       "      <td>4.92</td>\n",
       "      <td>0.08</td>\n",
       "      <td>5.10</td>\n",
       "      <td>3.06</td>\n",
       "      <td>2.03</td>\n",
       "      <td>3.73</td>\n",
       "      <td>0.0</td>\n",
       "      <td>0.0</td>\n",
       "      <td>0.0</td>\n",
       "      <td>0.0</td>\n",
       "      <td>0.0</td>\n",
       "      <td>0.0</td>\n",
       "      <td>0.0</td>\n",
       "      <td>0.0</td>\n",
       "    </tr>\n",
       "    <tr>\n",
       "      <th>1</th>\n",
       "      <td>O=C1NC(=O)C(c2ccccc2)=C1Nc1ccccc1</td>\n",
       "      <td>5.64</td>\n",
       "      <td>10.70</td>\n",
       "      <td>8.44</td>\n",
       "      <td>2.76</td>\n",
       "      <td>14.88</td>\n",
       "      <td>8.73</td>\n",
       "      <td>21.57</td>\n",
       "      <td>10.18</td>\n",
       "      <td>0.0</td>\n",
       "      <td>0.0</td>\n",
       "      <td>0.0</td>\n",
       "      <td>0.0</td>\n",
       "      <td>0.0</td>\n",
       "      <td>0.0</td>\n",
       "      <td>0.0</td>\n",
       "      <td>0.0</td>\n",
       "    </tr>\n",
       "    <tr>\n",
       "      <th>2</th>\n",
       "      <td>CCn1c(-c2nonc2N)nc2c(C#CC(C)(C)O)ncc(OC3CCNCC3...</td>\n",
       "      <td>2.18</td>\n",
       "      <td>3.18</td>\n",
       "      <td>-0.54</td>\n",
       "      <td>0.39</td>\n",
       "      <td>3.87</td>\n",
       "      <td>4.05</td>\n",
       "      <td>17.13</td>\n",
       "      <td>10.34</td>\n",
       "      <td>0.0</td>\n",
       "      <td>0.0</td>\n",
       "      <td>0.0</td>\n",
       "      <td>0.0</td>\n",
       "      <td>0.0</td>\n",
       "      <td>0.0</td>\n",
       "      <td>0.0</td>\n",
       "      <td>0.0</td>\n",
       "    </tr>\n",
       "    <tr>\n",
       "      <th>3</th>\n",
       "      <td>CN(C)c1cc2c(Nc3ccc4c(cnn4Cc4ccccc4)c3)ncnc2cn1</td>\n",
       "      <td>93.40</td>\n",
       "      <td>87.31</td>\n",
       "      <td>-0.32</td>\n",
       "      <td>2.75</td>\n",
       "      <td>3.38</td>\n",
       "      <td>0.35</td>\n",
       "      <td>34.35</td>\n",
       "      <td>13.63</td>\n",
       "      <td>1.0</td>\n",
       "      <td>1.0</td>\n",
       "      <td>0.0</td>\n",
       "      <td>0.0</td>\n",
       "      <td>0.0</td>\n",
       "      <td>0.0</td>\n",
       "      <td>0.0</td>\n",
       "      <td>0.0</td>\n",
       "    </tr>\n",
       "    <tr>\n",
       "      <th>4</th>\n",
       "      <td>NS(=O)(=O)c1ccc(Nc2cc(-c3ccc(O)c(F)c3)n[nH]2)cc1</td>\n",
       "      <td>-2.00</td>\n",
       "      <td>3.68</td>\n",
       "      <td>20.16</td>\n",
       "      <td>55.90</td>\n",
       "      <td>86.43</td>\n",
       "      <td>47.58</td>\n",
       "      <td>55.46</td>\n",
       "      <td>54.96</td>\n",
       "      <td>0.0</td>\n",
       "      <td>0.0</td>\n",
       "      <td>0.0</td>\n",
       "      <td>0.0</td>\n",
       "      <td>1.0</td>\n",
       "      <td>0.0</td>\n",
       "      <td>0.0</td>\n",
       "      <td>0.0</td>\n",
       "    </tr>\n",
       "  </tbody>\n",
       "</table>\n",
       "</div>"
      ],
      "text/plain": [
       "                                              smiles  EGFR_(L858R_mutant)  \\\n",
       "0          O=C(Nc1n[nH]c2cc(-c3ccc(F)cc3)ccc12)C1CC1                 4.19   \n",
       "1                  O=C1NC(=O)C(c2ccccc2)=C1Nc1ccccc1                 5.64   \n",
       "2  CCn1c(-c2nonc2N)nc2c(C#CC(C)(C)O)ncc(OC3CCNCC3...                 2.18   \n",
       "3     CN(C)c1cc2c(Nc3ccc4c(cnn4Cc4ccccc4)c3)ncnc2cn1                93.40   \n",
       "4   NS(=O)(=O)c1ccc(Nc2cc(-c3ccc(O)c(F)c3)n[nH]2)cc1                -2.00   \n",
       "\n",
       "    EGFR  KIT_(T6701_mutant)  KIT_(V560G_mutant)    KIT  RET_(V804L_mutant)  \\\n",
       "0   4.27                4.92                0.08   5.10                3.06   \n",
       "1  10.70                8.44                2.76  14.88                8.73   \n",
       "2   3.18               -0.54                0.39   3.87                4.05   \n",
       "3  87.31               -0.32                2.75   3.38                0.35   \n",
       "4   3.68               20.16               55.90  86.43               47.58   \n",
       "\n",
       "   RET_(Y791F_mutant)    RET  CLASS_EGFR_(L858R_mutant)  CLASS_EGFR  \\\n",
       "0                2.03   3.73                        0.0         0.0   \n",
       "1               21.57  10.18                        0.0         0.0   \n",
       "2               17.13  10.34                        0.0         0.0   \n",
       "3               34.35  13.63                        1.0         1.0   \n",
       "4               55.46  54.96                        0.0         0.0   \n",
       "\n",
       "   CLASS_KIT_(T6701_mutant)  CLASS_KIT_(V560G_mutant)  CLASS_KIT  \\\n",
       "0                       0.0                       0.0        0.0   \n",
       "1                       0.0                       0.0        0.0   \n",
       "2                       0.0                       0.0        0.0   \n",
       "3                       0.0                       0.0        0.0   \n",
       "4                       0.0                       0.0        1.0   \n",
       "\n",
       "   CLASS_RET_(V804L_mutant)  CLASS_RET_(Y791F_mutant)  CLASS_RET  \n",
       "0                       0.0                       0.0        0.0  \n",
       "1                       0.0                       0.0        0.0  \n",
       "2                       0.0                       0.0        0.0  \n",
       "3                       0.0                       0.0        0.0  \n",
       "4                       0.0                       0.0        0.0  "
      ]
     },
     "execution_count": 7,
     "metadata": {},
     "output_type": "execute_result"
    }
   ],
   "source": [
    "df_mols = pd.read_csv(settings.dataset_file).drop(columns=['UNIQUE_ID'])\n",
    "df_mols.head()"
   ]
  },
  {
   "cell_type": "code",
   "execution_count": 8,
   "metadata": {},
   "outputs": [
    {
     "data": {
      "text/html": [
       "<div>\n",
       "<style scoped>\n",
       "    .dataframe tbody tr th:only-of-type {\n",
       "        vertical-align: middle;\n",
       "    }\n",
       "\n",
       "    .dataframe tbody tr th {\n",
       "        vertical-align: top;\n",
       "    }\n",
       "\n",
       "    .dataframe thead th {\n",
       "        text-align: right;\n",
       "    }\n",
       "</style>\n",
       "<table border=\"1\" class=\"dataframe\">\n",
       "  <thead>\n",
       "    <tr style=\"text-align: right;\">\n",
       "      <th></th>\n",
       "      <th>smiles</th>\n",
       "      <th>EGFR_(L858R_mutant)</th>\n",
       "      <th>EGFR</th>\n",
       "      <th>KIT_(T6701_mutant)</th>\n",
       "      <th>KIT_(V560G_mutant)</th>\n",
       "      <th>KIT</th>\n",
       "      <th>RET_(V804L_mutant)</th>\n",
       "      <th>RET_(Y791F_mutant)</th>\n",
       "      <th>RET</th>\n",
       "      <th>CLASS_EGFR_(L858R_mutant)</th>\n",
       "      <th>CLASS_EGFR</th>\n",
       "      <th>CLASS_KIT_(T6701_mutant)</th>\n",
       "      <th>CLASS_KIT_(V560G_mutant)</th>\n",
       "      <th>CLASS_KIT</th>\n",
       "      <th>CLASS_RET_(V804L_mutant)</th>\n",
       "      <th>CLASS_RET_(Y791F_mutant)</th>\n",
       "      <th>CLASS_RET</th>\n",
       "      <th>mols</th>\n",
       "    </tr>\n",
       "  </thead>\n",
       "  <tbody>\n",
       "    <tr>\n",
       "      <th>0</th>\n",
       "      <td>O=C(Nc1n[nH]c2cc(-c3ccc(F)cc3)ccc12)C1CC1</td>\n",
       "      <td>4.19</td>\n",
       "      <td>4.27</td>\n",
       "      <td>4.92</td>\n",
       "      <td>0.08</td>\n",
       "      <td>5.10</td>\n",
       "      <td>3.06</td>\n",
       "      <td>2.03</td>\n",
       "      <td>3.73</td>\n",
       "      <td>0.0</td>\n",
       "      <td>0.0</td>\n",
       "      <td>0.0</td>\n",
       "      <td>0.0</td>\n",
       "      <td>0.0</td>\n",
       "      <td>0.0</td>\n",
       "      <td>0.0</td>\n",
       "      <td>0.0</td>\n",
       "      <td>&lt;rdkit.Chem.rdchem.Mol object at 0x7f3edc0f0cf0&gt;</td>\n",
       "    </tr>\n",
       "    <tr>\n",
       "      <th>1</th>\n",
       "      <td>O=C1NC(=O)C(c2ccccc2)=C1Nc1ccccc1</td>\n",
       "      <td>5.64</td>\n",
       "      <td>10.70</td>\n",
       "      <td>8.44</td>\n",
       "      <td>2.76</td>\n",
       "      <td>14.88</td>\n",
       "      <td>8.73</td>\n",
       "      <td>21.57</td>\n",
       "      <td>10.18</td>\n",
       "      <td>0.0</td>\n",
       "      <td>0.0</td>\n",
       "      <td>0.0</td>\n",
       "      <td>0.0</td>\n",
       "      <td>0.0</td>\n",
       "      <td>0.0</td>\n",
       "      <td>0.0</td>\n",
       "      <td>0.0</td>\n",
       "      <td>&lt;rdkit.Chem.rdchem.Mol object at 0x7f3e7a5760a0&gt;</td>\n",
       "    </tr>\n",
       "    <tr>\n",
       "      <th>2</th>\n",
       "      <td>CCn1c(-c2nonc2N)nc2c(C#CC(C)(C)O)ncc(OC3CCNCC3...</td>\n",
       "      <td>2.18</td>\n",
       "      <td>3.18</td>\n",
       "      <td>-0.54</td>\n",
       "      <td>0.39</td>\n",
       "      <td>3.87</td>\n",
       "      <td>4.05</td>\n",
       "      <td>17.13</td>\n",
       "      <td>10.34</td>\n",
       "      <td>0.0</td>\n",
       "      <td>0.0</td>\n",
       "      <td>0.0</td>\n",
       "      <td>0.0</td>\n",
       "      <td>0.0</td>\n",
       "      <td>0.0</td>\n",
       "      <td>0.0</td>\n",
       "      <td>0.0</td>\n",
       "      <td>&lt;rdkit.Chem.rdchem.Mol object at 0x7f3e7a5761f0&gt;</td>\n",
       "    </tr>\n",
       "    <tr>\n",
       "      <th>3</th>\n",
       "      <td>CN(C)c1cc2c(Nc3ccc4c(cnn4Cc4ccccc4)c3)ncnc2cn1</td>\n",
       "      <td>93.40</td>\n",
       "      <td>87.31</td>\n",
       "      <td>-0.32</td>\n",
       "      <td>2.75</td>\n",
       "      <td>3.38</td>\n",
       "      <td>0.35</td>\n",
       "      <td>34.35</td>\n",
       "      <td>13.63</td>\n",
       "      <td>1.0</td>\n",
       "      <td>1.0</td>\n",
       "      <td>0.0</td>\n",
       "      <td>0.0</td>\n",
       "      <td>0.0</td>\n",
       "      <td>0.0</td>\n",
       "      <td>0.0</td>\n",
       "      <td>0.0</td>\n",
       "      <td>&lt;rdkit.Chem.rdchem.Mol object at 0x7f3e7a576260&gt;</td>\n",
       "    </tr>\n",
       "    <tr>\n",
       "      <th>4</th>\n",
       "      <td>NS(=O)(=O)c1ccc(Nc2cc(-c3ccc(O)c(F)c3)n[nH]2)cc1</td>\n",
       "      <td>-2.00</td>\n",
       "      <td>3.68</td>\n",
       "      <td>20.16</td>\n",
       "      <td>55.90</td>\n",
       "      <td>86.43</td>\n",
       "      <td>47.58</td>\n",
       "      <td>55.46</td>\n",
       "      <td>54.96</td>\n",
       "      <td>0.0</td>\n",
       "      <td>0.0</td>\n",
       "      <td>0.0</td>\n",
       "      <td>0.0</td>\n",
       "      <td>1.0</td>\n",
       "      <td>0.0</td>\n",
       "      <td>0.0</td>\n",
       "      <td>0.0</td>\n",
       "      <td>&lt;rdkit.Chem.rdchem.Mol object at 0x7f3e7a5762d0&gt;</td>\n",
       "    </tr>\n",
       "  </tbody>\n",
       "</table>\n",
       "</div>"
      ],
      "text/plain": [
       "                                              smiles  EGFR_(L858R_mutant)  \\\n",
       "0          O=C(Nc1n[nH]c2cc(-c3ccc(F)cc3)ccc12)C1CC1                 4.19   \n",
       "1                  O=C1NC(=O)C(c2ccccc2)=C1Nc1ccccc1                 5.64   \n",
       "2  CCn1c(-c2nonc2N)nc2c(C#CC(C)(C)O)ncc(OC3CCNCC3...                 2.18   \n",
       "3     CN(C)c1cc2c(Nc3ccc4c(cnn4Cc4ccccc4)c3)ncnc2cn1                93.40   \n",
       "4   NS(=O)(=O)c1ccc(Nc2cc(-c3ccc(O)c(F)c3)n[nH]2)cc1                -2.00   \n",
       "\n",
       "    EGFR  KIT_(T6701_mutant)  KIT_(V560G_mutant)    KIT  RET_(V804L_mutant)  \\\n",
       "0   4.27                4.92                0.08   5.10                3.06   \n",
       "1  10.70                8.44                2.76  14.88                8.73   \n",
       "2   3.18               -0.54                0.39   3.87                4.05   \n",
       "3  87.31               -0.32                2.75   3.38                0.35   \n",
       "4   3.68               20.16               55.90  86.43               47.58   \n",
       "\n",
       "   RET_(Y791F_mutant)    RET  CLASS_EGFR_(L858R_mutant)  CLASS_EGFR  \\\n",
       "0                2.03   3.73                        0.0         0.0   \n",
       "1               21.57  10.18                        0.0         0.0   \n",
       "2               17.13  10.34                        0.0         0.0   \n",
       "3               34.35  13.63                        1.0         1.0   \n",
       "4               55.46  54.96                        0.0         0.0   \n",
       "\n",
       "   CLASS_KIT_(T6701_mutant)  CLASS_KIT_(V560G_mutant)  CLASS_KIT  \\\n",
       "0                       0.0                       0.0        0.0   \n",
       "1                       0.0                       0.0        0.0   \n",
       "2                       0.0                       0.0        0.0   \n",
       "3                       0.0                       0.0        0.0   \n",
       "4                       0.0                       0.0        1.0   \n",
       "\n",
       "   CLASS_RET_(V804L_mutant)  CLASS_RET_(Y791F_mutant)  CLASS_RET  \\\n",
       "0                       0.0                       0.0        0.0   \n",
       "1                       0.0                       0.0        0.0   \n",
       "2                       0.0                       0.0        0.0   \n",
       "3                       0.0                       0.0        0.0   \n",
       "4                       0.0                       0.0        0.0   \n",
       "\n",
       "                                               mols  \n",
       "0  <rdkit.Chem.rdchem.Mol object at 0x7f3edc0f0cf0>  \n",
       "1  <rdkit.Chem.rdchem.Mol object at 0x7f3e7a5760a0>  \n",
       "2  <rdkit.Chem.rdchem.Mol object at 0x7f3e7a5761f0>  \n",
       "3  <rdkit.Chem.rdchem.Mol object at 0x7f3e7a576260>  \n",
       "4  <rdkit.Chem.rdchem.Mol object at 0x7f3e7a5762d0>  "
      ]
     },
     "execution_count": 8,
     "metadata": {},
     "output_type": "execute_result"
    }
   ],
   "source": [
    "df_mols['mols'] = df_mols['smiles'].apply(lambda x: Chem.MolFromSmiles(x))\n",
    "df_mols.head()"
   ]
  },
  {
   "cell_type": "code",
   "execution_count": 9,
   "metadata": {},
   "outputs": [
    {
     "data": {
      "image/png": "[encoded data removed]",
      "text/plain": [
       "<rdkit.Chem.rdchem.Mol at 0x7f3edc0f0cf0>"
      ]
     },
     "execution_count": 9,
     "metadata": {},
     "output_type": "execute_result"
    }
   ],
   "source": [
    "df_mols['mols'][0]"
   ]
  },
  {
   "cell_type": "markdown",
   "metadata": {},
   "source": [
    "Dock them!"
   ]
  },
  {
   "cell_type": "code",
   "execution_count": 10,
   "metadata": {},
   "outputs": [
    {
     "name": "stderr",
     "output_type": "stream",
     "text": [
      "\u001b[32m2024-06-20 19:46:53.641\u001b[0m | \u001b[1mINFO    \u001b[0m | \u001b[36msrc.workshop_2_utils\u001b[0m:\u001b[36mdock_multiple_mols\u001b[0m:\u001b[36m266\u001b[0m - \u001b[1mConverting mols to pdbqt in '/home/ubuntu/smina/ml4dd/data/KIT_wt/smina_inputs' folder\u001b[0m\n",
      "\u001b[32m2024-06-20 19:46:53.703\u001b[0m | \u001b[1mINFO    \u001b[0m | \u001b[36msrc.workshop_2_utils\u001b[0m:\u001b[36mdock_multiple_mols\u001b[0m:\u001b[36m270\u001b[0m - \u001b[1mDocking\u001b[0m\n",
      "100%|██████████| 2/2 [00:12<00:00,  6.22s/it]\n",
      "\u001b[32m2024-06-20 19:47:06.138\u001b[0m | \u001b[1mINFO    \u001b[0m | \u001b[36msrc.workshop_2_utils\u001b[0m:\u001b[36mdock_multiple_mols\u001b[0m:\u001b[36m279\u001b[0m - \u001b[1mMerge all the generated poses together to /home/ubuntu/smina/ml4dd/data/KIT_wt/smina_outputs\u001b[0m\n"
     ]
    }
   ],
   "source": [
    "from src.workshop_2_utils import Docking \n",
    "\n",
    "docker = Docking(protein_pdbqt_file, box, num_poses=num_poses, exhaustiveness=exhaustiveness) \n",
    "\n",
    "if num_mols > len(df_mols):\n",
    "    num_mols = len(df_mols)\n",
    "\n",
    "docker.dock_multiple_mols(\n",
    "        df_mols[\"mols\"].tolist()[:num_mols],\n",
    "        input_dir = smina_inputs_path,\n",
    "        output_dir = smina_outputs_path,\n",
    "        idxs= list(range(num_mols)),\n",
    ")\n"
   ]
  },
  {
   "cell_type": "markdown",
   "metadata": {},
   "source": [
    "Read the poses"
   ]
  },
  {
   "cell_type": "code",
   "execution_count": 11,
   "metadata": {},
   "outputs": [],
   "source": [
    "poses = dm.read_sdf(smina_outputs_path / \"poses.sdf\", as_df=True, mol_column=\"mols\", n_jobs=-1)\n",
    "# poses.sort_values(\"minimizedAffinity\",inplace=True)"
   ]
  },
  {
   "cell_type": "markdown",
   "metadata": {},
   "source": [
    "Need to get rid of duplicates"
   ]
  },
  {
   "cell_type": "code",
   "execution_count": 12,
   "metadata": {},
   "outputs": [],
   "source": [
    "if num_poses > 1:\n",
    "    from rdkit import Chem\n",
    "\n",
    "    # Function to convert a molecule to its canonical SMILES\n",
    "    def mol_to_canonical_smiles(mol):\n",
    "        return Chem.MolToSmiles(Chem.MolFromSmiles(mol), isomericSmiles=True)\n",
    "\n",
    "    # Apply the function to each molecule in the DataFrame\n",
    "    poses['canonical_smiles'] = poses['smiles'].apply(mol_to_canonical_smiles)\n",
    "\n",
    "    # Drop duplicates based on the 'canonical_smiles' column\n",
    "    poses.drop_duplicates(subset='canonical_smiles', inplace=True)\n"
   ]
  },
  {
   "cell_type": "code",
   "execution_count": 13,
   "metadata": {},
   "outputs": [
    {
     "data": {
      "text/html": [
       "<div>\n",
       "<style scoped>\n",
       "    .dataframe tbody tr th:only-of-type {\n",
       "        vertical-align: middle;\n",
       "    }\n",
       "\n",
       "    .dataframe tbody tr th {\n",
       "        vertical-align: top;\n",
       "    }\n",
       "\n",
       "    .dataframe thead th {\n",
       "        text-align: right;\n",
       "    }\n",
       "</style>\n",
       "<table border=\"1\" class=\"dataframe\">\n",
       "  <thead>\n",
       "    <tr style=\"text-align: right;\">\n",
       "      <th></th>\n",
       "      <th>smiles</th>\n",
       "      <th>mols</th>\n",
       "      <th>minimizedAffinity</th>\n",
       "    </tr>\n",
       "  </thead>\n",
       "  <tbody>\n",
       "    <tr>\n",
       "      <th>0</th>\n",
       "      <td>O=C1NC(=O)C(c2ccccc2)=C1Nc1ccccc1</td>\n",
       "      <td>&lt;rdkit.Chem.rdchem.Mol object at 0x7f3e2d1ba650&gt;</td>\n",
       "      <td>-7.794343</td>\n",
       "    </tr>\n",
       "    <tr>\n",
       "      <th>1</th>\n",
       "      <td>[CH2].[CH3].[C].[O][C]Nc1n[nH]c2cc(-c3ccc(F)cc...</td>\n",
       "      <td>&lt;rdkit.Chem.rdchem.Mol object at 0x7f3e2d1b98c0&gt;</td>\n",
       "      <td>-9.761231</td>\n",
       "    </tr>\n",
       "  </tbody>\n",
       "</table>\n",
       "</div>"
      ],
      "text/plain": [
       "                                              smiles  \\\n",
       "0                  O=C1NC(=O)C(c2ccccc2)=C1Nc1ccccc1   \n",
       "1  [CH2].[CH3].[C].[O][C]Nc1n[nH]c2cc(-c3ccc(F)cc...   \n",
       "\n",
       "                                               mols  minimizedAffinity  \n",
       "0  <rdkit.Chem.rdchem.Mol object at 0x7f3e2d1ba650>          -7.794343  \n",
       "1  <rdkit.Chem.rdchem.Mol object at 0x7f3e2d1b98c0>          -9.761231  "
      ]
     },
     "execution_count": 13,
     "metadata": {},
     "output_type": "execute_result"
    }
   ],
   "source": [
    "poses"
   ]
  },
  {
   "cell_type": "code",
   "execution_count": 14,
   "metadata": {},
   "outputs": [],
   "source": [
    "poses.drop(columns=['mols']).to_csv(save_df_file, index=False)"
   ]
  },
  {
   "cell_type": "code",
   "execution_count": null,
   "metadata": {},
   "outputs": [],
   "source": []
  }
 ],
 "metadata": {
  "kernelspec": {
   "display_name": "smina",
   "language": "python",
   "name": "python3"
  },
  "language_info": {
   "codemirror_mode": {
    "name": "ipython",
    "version": 3
   },
   "file_extension": ".py",
   "mimetype": "text/x-python",
   "name": "python",
   "nbconvert_exporter": "python",
   "pygments_lexer": "ipython3",
   "version": "3.12.4"
  }
 },
 "nbformat": 4,
 "nbformat_minor": 2
}
